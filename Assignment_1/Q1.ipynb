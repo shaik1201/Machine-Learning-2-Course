{
 "cells": [
  {
   "cell_type": "code",
   "execution_count": 3,
   "id": "887d9e8a",
   "metadata": {},
   "outputs": [],
   "source": [
    "import time\n",
    "import matplotlib.pyplot as plt\n",
    "%matplotlib inline"
   ]
  },
  {
   "cell_type": "code",
   "execution_count": 4,
   "id": "a49c8752",
   "metadata": {},
   "outputs": [],
   "source": [
    "import torch \n",
    "import torch.nn as nn\n",
    "import torchvision.datasets as dsets\n",
    "import torchvision.transforms as transforms\n",
    "import numpy as np\n",
    "\n",
    "# Hyper Parameters\n",
    "num_epochs = 5\n",
    "batch_size = 100\n",
    "learning_rate = 0.001\n",
    "\n",
    "\n",
    "train_dataset = dsets.MNIST(root='./data/',\n",
    "                               train=True, \n",
    "                               download=True)\n",
    "\n",
    "test_dataset = dsets.MNIST(root='./data/',\n",
    "                              train=False, \n",
    "                              download=True)\n",
    "\n",
    "# Data Loader (Input Pipeline)\n",
    "train_loader = torch.utils.data.DataLoader(dataset=train_dataset,\n",
    "                                           batch_size=batch_size, \n",
    "                                           shuffle=True)\n",
    "\n",
    "test_loader = torch.utils.data.DataLoader(dataset=test_dataset,\n",
    "                                          batch_size=batch_size, \n",
    "                                          shuffle=False)"
   ]
  },
  {
   "cell_type": "code",
   "execution_count": 10,
   "id": "a42be2b2",
   "metadata": {},
   "outputs": [],
   "source": [
    "class DNN:\n",
    "    def __init__(self, sizes, epochs, lr):\n",
    "        self.accuracy = []\n",
    "        self.sizes = sizes\n",
    "        self.epochs = epochs\n",
    "        self.lr = lr\n",
    "\n",
    "        # number of nodes in each layer\n",
    "        input_layer=self.sizes[0]\n",
    "        hidden_1=self.sizes[1]\n",
    "        hidden_2=self.sizes[2]\n",
    "        output_layer=self.sizes[3]\n",
    "\n",
    "#         self.params = {\n",
    "#             'W1':np.random.randn(hidden_1, input_layer) * np.sqrt(1. / hidden_1),\n",
    "#             'W2':np.random.randn(hidden_2, hidden_1) * np.sqrt(1. / hidden_2),\n",
    "#             'W3':np.random.randn(output_layer, hidden_2) * np.sqrt(1. / output_layer)\n",
    "#         }\n",
    "\n",
    "        self.params = pickle.load(open('weights2.pkl','rb'))\n",
    "    def relu(self, x, derivative=False):\n",
    "        if derivative:\n",
    "            return np.array([1 if i > 0 else 0 for i in x])\n",
    "#             return np.heaviside(x, 0) \n",
    "        return np.array([max(i, 0) for i in x])\n",
    "#         return max(0.0, x)\n",
    "        \n",
    "    def sigmoid(self, x, derivative=False):\n",
    "        if derivative:\n",
    "            return (np.exp(-x))/((np.exp(-x)+1)**2)\n",
    "        return 1/(1 + np.exp(-x))\n",
    "\n",
    "    def softmax(self, x, derivative=False):\n",
    "      # Numerically stable with large exponentials\n",
    "        exps = np.exp(x - x.max())\n",
    "        if derivative:\n",
    "            return exps / np.sum(exps, axis=0) * (1 - exps / np.sum(exps, axis=0))\n",
    "        return exps / np.sum(exps, axis=0)\n",
    "    def forward_pass(self, x_train):\n",
    "        params = self.params\n",
    "\n",
    "        # input layer activations becomes sample\n",
    "        params['A0'] = x_train\n",
    "\n",
    "        # input layer to hidden layer 1\n",
    "#         print(f'W1 SHAPE: {params[\"W1\"].shape}')\n",
    "        params['Z1'] = np.dot(params[\"W1\"], params['A0'])\n",
    "        params['A1'] = self.relu(params['Z1'])\n",
    "\n",
    "        # hidden layer 1 to hidden layer 2\n",
    "        params['Z2'] = np.dot(params[\"W2\"], params['A1'])\n",
    "        params['A2'] = self.relu(params['Z2'])\n",
    "\n",
    "        # hidden layer 2 to output layer\n",
    "        params['Z3'] = np.dot(params[\"W3\"], params['A2'])\n",
    "        params['A3'] = self.softmax(params['Z3'])\n",
    "\n",
    "        return params['A3']\n",
    "\n",
    "    def backward_pass(self, y_train, output):\n",
    "        '''\n",
    "          This is the backpropagation algorithm, for calculating the updates\n",
    "          of the neural network's parameters.\n",
    "\n",
    "          Note: There is a stability issue that causes warnings. This is \n",
    "                caused  by the dot and multiply operations on the huge arrays.\n",
    "\n",
    "                RuntimeWarning: invalid value encountered in true_divide\n",
    "                RuntimeWarning: overflow encountered in exp\n",
    "                RuntimeWarning: overflow encountered in square\n",
    "        '''\n",
    "        params = self.params\n",
    "        change_w = {}\n",
    "\n",
    "        # Calculate W3 update\n",
    "        error = 2 * (output - y_train) / output.shape[0] * self.softmax(params['Z3'], derivative=True)\n",
    "        change_w['W3'] = np.outer(error, params['A2'])\n",
    "\n",
    "        # Calculate W2 update\n",
    "        error = np.dot(params['W3'].T, error) * self.relu(params['Z2'], derivative=True)\n",
    "        change_w['W2'] = np.outer(error, params['A1'])\n",
    "\n",
    "        # Calculate W1 update\n",
    "        error = np.dot(params['W2'].T, error) * self.relu(params['Z1'], derivative=True)\n",
    "        change_w['W1'] = np.outer(error, params['A0'])\n",
    "\n",
    "        return change_w\n",
    "\n",
    "    def update_network_parameters(self, changes_to_w):\n",
    "        '''\n",
    "          Update network parameters according to update rule from\n",
    "          Stochastic Gradient Descent.\n",
    "\n",
    "          θ = θ - η * ∇J(x, y), \n",
    "              theta θ:            a network parameter (e.g. a weight w)\n",
    "              eta η:              the learning rate\n",
    "              gradient ∇J(x, y):  the gradient of the objective function,\n",
    "                                  i.e. the change for a specific theta θ\n",
    "        '''\n",
    "\n",
    "        for key, value in changes_to_w.items():\n",
    "            self.params[key] -= self.lr * value\n",
    "\n",
    "    def compute_accuracy(self, test_data, output_nodes):\n",
    "        '''\n",
    "          This function does a forward pass of x, then checks if the indices\n",
    "          of the maximum value in the output equals the indices in the label\n",
    "          y. Then it sums over each prediction and calculates the accuracy.\n",
    "        '''\n",
    "        predictions = []\n",
    "\n",
    "        for x in test_data:\n",
    "            # scale and shift the inputs\n",
    "            X_test, y_test = x\n",
    "            inputs = (np.asfarray(X_test) / 255.0 * 0.99) + 0.01\n",
    "            # create the target output values (all 0.01, except the desired label which is 0.99)\n",
    "            targets = np.zeros(output_nodes) + 0.01\n",
    "            targets[int(y_test)] = 0.99\n",
    "            output = self.forward_pass(np.array(inputs).flatten())\n",
    "            pred = np.argmax(output)\n",
    "            predictions.append(pred == np.argmax(targets))\n",
    "\n",
    "        return np.mean(predictions)\n",
    "\n",
    "    def train(self, train_list, test_list, output_nodes):\n",
    "        start_time = time.time()\n",
    "        for iteration in range(self.epochs):\n",
    "            for x in train_list:\n",
    "                X_train, y_train = x\n",
    "                # scale and shift the inputs\n",
    "                inputs = (np.asfarray(X_train) / 255.0 * 0.99) + 0.01\n",
    "                # create the target output values (all 0.01, except the desired label which is 0.99)\n",
    "                targets = np.zeros(output_nodes) + 0.01\n",
    "                targets[int(y_train)] = 0.99\n",
    "                output = self.forward_pass(np.array(inputs).flatten())\n",
    "                changes_to_w = self.backward_pass(targets, output)\n",
    "                self.update_network_parameters(changes_to_w)\n",
    "            \n",
    "            accuracy = self.compute_accuracy(test_list, output_nodes)\n",
    "            self.accuracy.append(accuracy)\n",
    "            print('Epoch: {0}, Time Spent: {1:.2f}s, Accuracy: {2:.2f}%'.format(iteration+1, time.time() - start_time, accuracy * 100\n",
    "    ))"
   ]
  },
  {
   "cell_type": "code",
   "execution_count": 7,
   "id": "21954d32",
   "metadata": {},
   "outputs": [
    {
     "name": "stdout",
     "output_type": "stream",
     "text": [
      "Epoch: 1, Time Spent: 111.19s, Accuracy: 68.89%\n",
      "Epoch: 2, Time Spent: 227.13s, Accuracy: 81.88%\n",
      "Epoch: 3, Time Spent: 337.99s, Accuracy: 85.91%\n",
      "Epoch: 4, Time Spent: 449.91s, Accuracy: 88.12%\n",
      "Epoch: 5, Time Spent: 562.45s, Accuracy: 89.02%\n"
     ]
    }
   ],
   "source": [
    "dnn = DNN(sizes=[784, 128, 64, 10], epochs=num_epochs, lr=0.001)\n",
    "dnn.train(train_dataset, test_dataset, 10)"
   ]
  },
  {
   "cell_type": "code",
   "execution_count": 9,
   "id": "c7e54c84",
   "metadata": {},
   "outputs": [],
   "source": [
    "import pickle\n",
    "pickle.dump(dnn.params,open('weights_q1.pkl','wb'))"
   ]
  },
  {
   "cell_type": "code",
   "execution_count": 12,
   "id": "47600a5a",
   "metadata": {},
   "outputs": [
    {
     "data": {
      "text/plain": [
       "[0.6889, 0.8188, 0.8591, 0.8812, 0.8902]"
      ]
     },
     "execution_count": 12,
     "metadata": {},
     "output_type": "execute_result"
    }
   ],
   "source": [
    "dnn.accuracy"
   ]
  },
  {
   "cell_type": "code",
   "execution_count": 14,
   "id": "9bad7f4e",
   "metadata": {},
   "outputs": [
    {
     "name": "stdout",
     "output_type": "stream",
     "text": [
      "Epoch: 1, Time Spent: 161.82s, Accuracy: 76.30%\n",
      "Epoch: 2, Time Spent: 321.58s, Accuracy: 78.72%\n",
      "Epoch: 3, Time Spent: 478.74s, Accuracy: 79.95%\n",
      "Epoch: 4, Time Spent: 637.08s, Accuracy: 80.75%\n",
      "Epoch: 5, Time Spent: 796.46s, Accuracy: 81.30%\n"
     ]
    }
   ],
   "source": [
    "dnn_train = DNN(sizes=[784, 128, 64, 10], epochs=num_epochs, lr=0.001)\n",
    "dnn_train.train(train_dataset, train_dataset, 10)"
   ]
  },
  {
   "cell_type": "code",
   "execution_count": 15,
   "id": "cc44d075",
   "metadata": {},
   "outputs": [
    {
     "data": {
      "text/plain": [
       "[0.7630333333333333, 0.78715, 0.7994666666666667, 0.80745, 0.8129833333333333]"
      ]
     },
     "execution_count": 15,
     "metadata": {},
     "output_type": "execute_result"
    }
   ],
   "source": [
    "dnn_train.accuracy"
   ]
  },
  {
   "cell_type": "code",
   "execution_count": null,
   "id": "a2b42afa",
   "metadata": {},
   "outputs": [],
   "source": []
  },
  {
   "cell_type": "code",
   "execution_count": null,
   "id": "69131a09",
   "metadata": {},
   "outputs": [],
   "source": []
  },
  {
   "cell_type": "code",
   "execution_count": 21,
   "id": "be5f1dbf",
   "metadata": {},
   "outputs": [
    {
     "data": {
      "image/png": "[encoded data removed]",
      "text/plain": [
       "<Figure size 576x432 with 1 Axes>"
      ]
     },
     "metadata": {
      "needs_background": "light"
     },
     "output_type": "display_data"
    }
   ],
   "source": [
    "plt.figure(figsize=(8,6))\n",
    "plt.plot(range(5), dnn.accuracy, c='red')\n",
    "plt.xlabel('epochs')\n",
    "plt.ylabel('accuracy')\n",
    "\n",
    "plt.plot(range(5), dnn_train.accuracy, c='blue')\n",
    "plt.xlabel('epochs')\n",
    "plt.ylabel('accuracy')\n",
    "\n",
    "plt.legend(['test', 'train'])\n",
    "\n",
    "plt.show()"
   ]
  },
  {
   "cell_type": "code",
   "execution_count": null,
   "id": "5d876d2f",
   "metadata": {},
   "outputs": [],
   "source": []
  }
 ],
 "metadata": {
  "kernelspec": {
   "display_name": "Python 3 (ipykernel)",
   "language": "python",
   "name": "python3"
  },
  "language_info": {
   "codemirror_mode": {
    "name": "ipython",
    "version": 3
   },
   "file_extension": ".py",
   "mimetype": "text/x-python",
   "name": "python",
   "nbconvert_exporter": "python",
   "pygments_lexer": "ipython3",
   "version": "3.10.4"
  }
 },
 "nbformat": 4,
 "nbformat_minor": 5
}
