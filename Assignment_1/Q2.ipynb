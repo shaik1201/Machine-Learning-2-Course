{
 "cells": [
  {
   "cell_type": "code",
   "execution_count": 1,
   "id": "37fdc4e1",
   "metadata": {},
   "outputs": [],
   "source": [
    "import torch \n",
    "import torch.nn as nn\n",
    "import torchvision.datasets as dsets\n",
    "from torch.utils.data import RandomSampler, DataLoader, Subset\n",
    "import torchvision.transforms as transforms\n",
    "import numpy as np\n",
    "\n",
    "# Hyper Parameters\n",
    "batch_size = 128\n",
    "learning_rate = 0.001\n",
    "\n",
    "\n",
    "transform = transforms.Compose([\n",
    "    # you can add other transformations in this list\n",
    "    transforms.ToTensor()\n",
    "])\n",
    "\n",
    "\n",
    "train_dataset = dsets.MNIST(root='./data/',\n",
    "                               train=True, \n",
    "                               download=True,\n",
    "                               transform=transform)\n",
    "num_train_samples = 128\n",
    "sample_ds = Subset(train_dataset, np.arange(num_train_samples))\n",
    "\n",
    "test_dataset = dsets.MNIST(root='./data/',\n",
    "                              train=False, \n",
    "                              download=True,\n",
    "                              transform=transform)\n",
    "\n",
    "\n",
    "# Data Loader (Input Pipeline)\n",
    "train_loader = DataLoader(dataset=sample_ds,\n",
    "                                           batch_size=batch_size, \n",
    "                                           shuffle=False)\n",
    "\n",
    "test_loader = torch.utils.data.DataLoader(dataset=test_dataset,\n",
    "                                          batch_size=10000, \n",
    "                                          shuffle=False)\n"
   ]
  },
  {
   "cell_type": "code",
   "execution_count": 3,
   "id": "b11736d6",
   "metadata": {},
   "outputs": [],
   "source": [
    "train_loader_iter = iter(train_loader)\n",
    "data = next(train_loader_iter)\n",
    "features, labels = data"
   ]
  },
  {
   "cell_type": "code",
   "execution_count": 4,
   "id": "019f50ba",
   "metadata": {},
   "outputs": [],
   "source": [
    "test_loader_iter = iter(test_loader)\n",
    "data_test = next(test_loader_iter)\n",
    "features_test, labels_test = data_test"
   ]
  },
  {
   "cell_type": "code",
   "execution_count": 5,
   "id": "b748c1a6",
   "metadata": {},
   "outputs": [],
   "source": [
    "ber = np.random.binomial(size=128, n=1, p= 0.5)"
   ]
  },
  {
   "cell_type": "code",
   "execution_count": 6,
   "id": "6bae8299",
   "metadata": {},
   "outputs": [],
   "source": [
    "ber_test = np.random.binomial(size=len(test_dataset), n=1, p= 0.5)"
   ]
  },
  {
   "cell_type": "code",
   "execution_count": 7,
   "id": "425c0422",
   "metadata": {},
   "outputs": [],
   "source": [
    "for i in range(len(labels)):\n",
    "    labels[i] = ber[i]"
   ]
  },
  {
   "cell_type": "code",
   "execution_count": 8,
   "id": "e8b76413",
   "metadata": {},
   "outputs": [],
   "source": [
    "for i in range(len(labels_test)):\n",
    "    labels_test[i] = ber_test[i]"
   ]
  },
  {
   "cell_type": "code",
   "execution_count": 9,
   "id": "9a132b51",
   "metadata": {},
   "outputs": [
    {
     "data": {
      "text/plain": [
       "tensor([1, 0, 1, 0, 1, 0, 0, 0, 0, 1, 1, 1, 1, 1, 0, 1, 1, 0, 1, 0, 1, 1, 1, 0,\n",
       "        0, 0, 0, 1, 0, 0, 0, 1, 0, 1, 1, 0, 1, 1, 0, 1, 0, 0, 0, 1, 0, 1, 1, 1,\n",
       "        1, 0, 0, 0, 1, 1, 0, 1, 1, 1, 0, 0, 1, 1, 1, 1, 1, 1, 0, 0, 0, 0, 1, 0,\n",
       "        0, 0, 1, 0, 0, 1, 1, 0, 1, 1, 1, 0, 0, 1, 1, 1, 0, 1, 1, 0, 0, 0, 1, 1,\n",
       "        1, 1, 0, 0, 0, 0, 0, 1, 0, 0, 0, 1, 0, 1, 0, 0, 0, 0, 0, 1, 1, 1, 0, 1,\n",
       "        0, 0, 1, 0, 1, 0, 0, 1])"
      ]
     },
     "execution_count": 9,
     "metadata": {},
     "output_type": "execute_result"
    }
   ],
   "source": [
    "labels"
   ]
  },
  {
   "cell_type": "code",
   "execution_count": 19,
   "id": "a3a0b884",
   "metadata": {},
   "outputs": [
    {
     "data": {
      "text/plain": [
       "tensor([1, 0, 1,  ..., 1, 1, 0])"
      ]
     },
     "execution_count": 19,
     "metadata": {},
     "output_type": "execute_result"
    }
   ],
   "source": [
    "labels_test"
   ]
  },
  {
   "cell_type": "code",
   "execution_count": 10,
   "id": "e13ec99a",
   "metadata": {},
   "outputs": [],
   "source": [
    "import torch.optim as optim\n",
    "import torch.nn.functional as F\n",
    "class Net(nn.Module):\n",
    "    def __init__(self):\n",
    "        super(Net, self).__init__()\n",
    "        self.fc1 = nn.Linear(784, 128)\n",
    "        self.fc2 = nn.Linear(128, 64)\n",
    "        self.fc3 = nn.Linear(64, 2)\n",
    "\n",
    "    def forward(self, x):\n",
    "        x = F.relu(self.fc1(x))\n",
    "        x = F.relu(self.fc2(x))\n",
    "        x = self.fc3(x)\n",
    "        return F.log_softmax(x, dim=1)"
   ]
  },
  {
   "cell_type": "code",
   "execution_count": 11,
   "id": "e8caf07f",
   "metadata": {},
   "outputs": [],
   "source": [
    "net = Net()\n",
    "loss_criterion = nn.CrossEntropyLoss()\n",
    "optimizer = optim.Adam(net.parameters(), lr=0.005)"
   ]
  },
  {
   "cell_type": "code",
   "execution_count": 12,
   "id": "18489c89",
   "metadata": {},
   "outputs": [],
   "source": [
    "loss_arr = []\n",
    "for epoch in range(20): \n",
    "    i = 0\n",
    "    for data in train_loader:  \n",
    "        X = data[i]\n",
    "        i += 1\n",
    "        y = labels\n",
    "        net.zero_grad()  \n",
    "        output = net(X.view(-1,784))  \n",
    "        loss = loss_criterion(output, y)  \n",
    "        loss.backward()  \n",
    "        loss_arr.append(loss.detach().numpy())\n",
    "        optimizer.step()   "
   ]
  },
  {
   "cell_type": "code",
   "execution_count": 13,
   "id": "42ce322d",
   "metadata": {},
   "outputs": [],
   "source": [
    "loss_arr_test = []\n",
    "for epoch in range(20): \n",
    "    i = 0\n",
    "    for data in test_loader:  \n",
    "        X_test = data[i]\n",
    "        i += 1\n",
    "        y_test = labels_test\n",
    "        net.zero_grad()  \n",
    "        output_test = net(X_test.view(-1,784))  \n",
    "        loss_test = loss_criterion(output_test, y_test)  \n",
    "        loss_arr_test.append(loss_test.detach().numpy())"
   ]
  },
  {
   "cell_type": "code",
   "execution_count": 14,
   "id": "d6d0084b",
   "metadata": {},
   "outputs": [
    {
     "data": {
      "text/plain": [
       "[array(0.6953974, dtype=float32),\n",
       " array(0.6727633, dtype=float32),\n",
       " array(0.62694037, dtype=float32),\n",
       " array(0.5768313, dtype=float32),\n",
       " array(0.54238725, dtype=float32),\n",
       " array(0.50077075, dtype=float32),\n",
       " array(0.43422157, dtype=float32),\n",
       " array(0.38860074, dtype=float32),\n",
       " array(0.34967896, dtype=float32),\n",
       " array(0.28112897, dtype=float32),\n",
       " array(0.22963394, dtype=float32),\n",
       " array(0.19746982, dtype=float32),\n",
       " array(0.14370511, dtype=float32),\n",
       " array(0.1009372, dtype=float32),\n",
       " array(0.0885764, dtype=float32),\n",
       " array(0.05730347, dtype=float32),\n",
       " array(0.04045596, dtype=float32),\n",
       " array(0.02571017, dtype=float32),\n",
       " array(0.01996889, dtype=float32),\n",
       " array(0.00952089, dtype=float32)]"
      ]
     },
     "execution_count": 14,
     "metadata": {},
     "output_type": "execute_result"
    }
   ],
   "source": [
    "loss_arr"
   ]
  },
  {
   "cell_type": "code",
   "execution_count": 15,
   "id": "3b318037",
   "metadata": {},
   "outputs": [
    {
     "data": {
      "text/plain": [
       "[array(2.993947, dtype=float32),\n",
       " array(2.993947, dtype=float32),\n",
       " array(2.993947, dtype=float32),\n",
       " array(2.993947, dtype=float32),\n",
       " array(2.993947, dtype=float32),\n",
       " array(2.993947, dtype=float32),\n",
       " array(2.993947, dtype=float32),\n",
       " array(2.993947, dtype=float32),\n",
       " array(2.993947, dtype=float32),\n",
       " array(2.993947, dtype=float32),\n",
       " array(2.993947, dtype=float32),\n",
       " array(2.993947, dtype=float32),\n",
       " array(2.993947, dtype=float32),\n",
       " array(2.993947, dtype=float32),\n",
       " array(2.993947, dtype=float32),\n",
       " array(2.993947, dtype=float32),\n",
       " array(2.993947, dtype=float32),\n",
       " array(2.993947, dtype=float32),\n",
       " array(2.993947, dtype=float32),\n",
       " array(2.993947, dtype=float32)]"
      ]
     },
     "execution_count": 15,
     "metadata": {},
     "output_type": "execute_result"
    }
   ],
   "source": [
    "loss_arr_test"
   ]
  },
  {
   "cell_type": "code",
   "execution_count": 18,
   "id": "57cbac42",
   "metadata": {},
   "outputs": [
    {
     "data": {
      "image/png": "[encoded data removed]",
      "text/plain": [
       "<Figure size 576x432 with 1 Axes>"
      ]
     },
     "metadata": {
      "needs_background": "light"
     },
     "output_type": "display_data"
    }
   ],
   "source": [
    "import time\n",
    "import matplotlib.pyplot as plt\n",
    "%matplotlib inline\n",
    "\n",
    "plt.figure(figsize=(8,6))\n",
    "plt.plot(range(20), loss_arr, c='blue')\n",
    "plt.xlabel('epochs')\n",
    "plt.ylabel('loss')\n",
    "\n",
    "plt.plot(range(20), loss_arr_test, c='red')\n",
    "plt.xlabel('epochs')\n",
    "plt.ylabel('loss')\n",
    "\n",
    "plt.legend(['train', 'test'])\n",
    "\n",
    "plt.show()"
   ]
  },
  {
   "cell_type": "code",
   "execution_count": null,
   "id": "5af3e320",
   "metadata": {},
   "outputs": [],
   "source": []
  }
 ],
 "metadata": {
  "kernelspec": {
   "display_name": "Python 3 (ipykernel)",
   "language": "python",
   "name": "python3"
  },
  "language_info": {
   "codemirror_mode": {
    "name": "ipython",
    "version": 3
   },
   "file_extension": ".py",
   "mimetype": "text/x-python",
   "name": "python",
   "nbconvert_exporter": "python",
   "pygments_lexer": "ipython3",
   "version": "3.10.4"
  }
 },
 "nbformat": 4,
 "nbformat_minor": 5
}
